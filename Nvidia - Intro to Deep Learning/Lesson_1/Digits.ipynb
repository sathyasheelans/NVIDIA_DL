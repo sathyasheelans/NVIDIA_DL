{
  "cells": [
    {
      "cell_type": "markdown",
      "metadata": {
        "id": "hr61FqXw2zfz"
      },
      "source": [
        "<center><a href=\"https://www.nvidia.com/dli\"> <img src=\"https://github.com/sathyasheelans/NVIDIA_DL/blob/master/Nvidia%20-%20Intro%20to%20Deep%20Learning/Lesson_1/images/DLI_Header.png?raw=1\" alt=\"Header\" style=\"width: 400px;\"/> </a></center>"
      ]
    },
    {
      "cell_type": "markdown",
      "metadata": {
        "id": "dLa1EZq42zf0"
      },
      "source": [
        "# 1. Image Classification with the MNIST Dataset"
      ]
    },
    {
      "cell_type": "markdown",
      "metadata": {
        "id": "B-nDnmoC2zf1"
      },
      "source": [
        "Create a model in both pytorch and and tensorflow and compare the differences"
      ]
    },
    {
      "cell_type": "markdown",
      "metadata": {
        "id": "ZWd9Mjxm2zf1",
        "tags": []
      },
      "source": [
        "## 1.1 Objectives"
      ]
    },
    {
      "cell_type": "markdown",
      "metadata": {
        "id": "ZkNKvfXn5E96"
      },
      "source": [
        "### Install pytorch and tensorflow"
      ]
    },
    {
      "cell_type": "code",
      "source": [
        "import torch._dynamo\n",
        "torch._dynamo.config.suppress_errors = True\n"
      ],
      "metadata": {
        "id": "LNiqXVBT0qp7"
      },
      "execution_count": 30,
      "outputs": []
    },
    {
      "cell_type": "code",
      "source": [
        "!pip install triton --upgrade"
      ],
      "metadata": {
        "id": "94KO0FGP0feH",
        "outputId": "f917a019-5583-41c7-c58d-7aedc9f3550c",
        "colab": {
          "base_uri": "https://localhost:8080/"
        }
      },
      "execution_count": 28,
      "outputs": [
        {
          "output_type": "stream",
          "name": "stdout",
          "text": [
            "Collecting triton\n",
            "  Downloading triton-3.1.0-cp310-cp310-manylinux_2_17_x86_64.manylinux2014_x86_64.whl.metadata (1.3 kB)\n",
            "Requirement already satisfied: filelock in /usr/local/lib/python3.10/dist-packages (from triton) (3.16.1)\n",
            "Downloading triton-3.1.0-cp310-cp310-manylinux_2_17_x86_64.manylinux2014_x86_64.whl (209.5 MB)\n",
            "\u001b[2K   \u001b[90m━━━━━━━━━━━━━━━━━━━━━━━━━━━━━━━━━━━━━━━━\u001b[0m \u001b[32m209.5/209.5 MB\u001b[0m \u001b[31m6.1 MB/s\u001b[0m eta \u001b[36m0:00:00\u001b[0m\n",
            "\u001b[?25hInstalling collected packages: triton\n",
            "Successfully installed triton-3.1.0\n"
          ]
        }
      ]
    },
    {
      "cell_type": "code",
      "execution_count": 1,
      "metadata": {
        "id": "sR5rp5LC5E96",
        "colab": {
          "base_uri": "https://localhost:8080/"
        },
        "outputId": "c681eb69-1784-4f53-a812-9fbf8009f329"
      },
      "outputs": [
        {
          "output_type": "stream",
          "name": "stdout",
          "text": [
            "Requirement already satisfied: torch in /usr/local/lib/python3.10/dist-packages (2.4.1+cu121)\n",
            "Requirement already satisfied: torchvision in /usr/local/lib/python3.10/dist-packages (0.19.1+cu121)\n",
            "Requirement already satisfied: torchaudio in /usr/local/lib/python3.10/dist-packages (2.4.1+cu121)\n",
            "Requirement already satisfied: filelock in /usr/local/lib/python3.10/dist-packages (from torch) (3.16.1)\n",
            "Requirement already satisfied: typing-extensions>=4.8.0 in /usr/local/lib/python3.10/dist-packages (from torch) (4.12.2)\n",
            "Requirement already satisfied: sympy in /usr/local/lib/python3.10/dist-packages (from torch) (1.13.3)\n",
            "Requirement already satisfied: networkx in /usr/local/lib/python3.10/dist-packages (from torch) (3.4.1)\n",
            "Requirement already satisfied: jinja2 in /usr/local/lib/python3.10/dist-packages (from torch) (3.1.4)\n",
            "Requirement already satisfied: fsspec in /usr/local/lib/python3.10/dist-packages (from torch) (2024.6.1)\n",
            "Requirement already satisfied: numpy in /usr/local/lib/python3.10/dist-packages (from torchvision) (1.26.4)\n",
            "Requirement already satisfied: pillow!=8.3.*,>=5.3.0 in /usr/local/lib/python3.10/dist-packages (from torchvision) (10.4.0)\n",
            "Requirement already satisfied: MarkupSafe>=2.0 in /usr/local/lib/python3.10/dist-packages (from jinja2->torch) (3.0.2)\n",
            "Requirement already satisfied: mpmath<1.4,>=1.1.0 in /usr/local/lib/python3.10/dist-packages (from sympy->torch) (1.3.0)\n"
          ]
        }
      ],
      "source": [
        "!pip3 install torch torchvision torchaudio"
      ]
    },
    {
      "cell_type": "markdown",
      "metadata": {
        "id": "t_J8U_9n5E97"
      },
      "source": [
        "### Load Pytorch"
      ]
    },
    {
      "cell_type": "code",
      "execution_count": 3,
      "metadata": {
        "id": "siboVxRJ5pes"
      },
      "outputs": [],
      "source": [
        "import torch\n",
        "import torch.nn as nn\n",
        "from torch.utils.data import Dataset, DataLoader\n",
        "from torch.optim import Adam\n",
        "\n",
        "# Visualization tools\n",
        "import torchvision\n",
        "import torchvision.transforms.v2 as transforms\n",
        "import torchvision.transforms.functional as F\n",
        "import matplotlib.pyplot as plt"
      ]
    },
    {
      "cell_type": "code",
      "execution_count": 4,
      "metadata": {
        "colab": {
          "base_uri": "https://localhost:8080/"
        },
        "id": "AgBjq0uu6CYm",
        "outputId": "0d451e2e-5b0b-44a3-95e6-fb8a87212a2e"
      },
      "outputs": [
        {
          "output_type": "execute_result",
          "data": {
            "text/plain": [
              "True"
            ]
          },
          "metadata": {},
          "execution_count": 4
        }
      ],
      "source": [
        "device = torch.device(\"cuda\" if torch.cuda.is_available() else \"cpu\")\n",
        "torch.cuda.is_available()"
      ]
    },
    {
      "cell_type": "code",
      "execution_count": 5,
      "metadata": {
        "colab": {
          "base_uri": "https://localhost:8080/"
        },
        "id": "If_AfbCG2zf3",
        "outputId": "b9a19943-5b57-41d0-a80f-19a9b6b5fbd3"
      },
      "outputs": [
        {
          "output_type": "stream",
          "name": "stdout",
          "text": [
            "Downloading http://yann.lecun.com/exdb/mnist/train-images-idx3-ubyte.gz\n",
            "Failed to download (trying next):\n",
            "<urlopen error [SSL: CERTIFICATE_VERIFY_FAILED] certificate verify failed: certificate has expired (_ssl.c:1007)>\n",
            "\n",
            "Downloading https://ossci-datasets.s3.amazonaws.com/mnist/train-images-idx3-ubyte.gz\n",
            "Downloading https://ossci-datasets.s3.amazonaws.com/mnist/train-images-idx3-ubyte.gz to ./data/MNIST/raw/train-images-idx3-ubyte.gz\n"
          ]
        },
        {
          "output_type": "stream",
          "name": "stderr",
          "text": [
            "100%|██████████| 9912422/9912422 [00:02<00:00, 4652883.09it/s]\n"
          ]
        },
        {
          "output_type": "stream",
          "name": "stdout",
          "text": [
            "Extracting ./data/MNIST/raw/train-images-idx3-ubyte.gz to ./data/MNIST/raw\n",
            "\n",
            "Downloading http://yann.lecun.com/exdb/mnist/train-labels-idx1-ubyte.gz\n",
            "Failed to download (trying next):\n",
            "<urlopen error [SSL: CERTIFICATE_VERIFY_FAILED] certificate verify failed: certificate has expired (_ssl.c:1007)>\n",
            "\n",
            "Downloading https://ossci-datasets.s3.amazonaws.com/mnist/train-labels-idx1-ubyte.gz\n",
            "Downloading https://ossci-datasets.s3.amazonaws.com/mnist/train-labels-idx1-ubyte.gz to ./data/MNIST/raw/train-labels-idx1-ubyte.gz\n"
          ]
        },
        {
          "output_type": "stream",
          "name": "stderr",
          "text": [
            "100%|██████████| 28881/28881 [00:00<00:00, 134401.83it/s]\n"
          ]
        },
        {
          "output_type": "stream",
          "name": "stdout",
          "text": [
            "Extracting ./data/MNIST/raw/train-labels-idx1-ubyte.gz to ./data/MNIST/raw\n",
            "\n",
            "Downloading http://yann.lecun.com/exdb/mnist/t10k-images-idx3-ubyte.gz\n",
            "Failed to download (trying next):\n",
            "<urlopen error [SSL: CERTIFICATE_VERIFY_FAILED] certificate verify failed: certificate has expired (_ssl.c:1007)>\n",
            "\n",
            "Downloading https://ossci-datasets.s3.amazonaws.com/mnist/t10k-images-idx3-ubyte.gz\n",
            "Downloading https://ossci-datasets.s3.amazonaws.com/mnist/t10k-images-idx3-ubyte.gz to ./data/MNIST/raw/t10k-images-idx3-ubyte.gz\n"
          ]
        },
        {
          "output_type": "stream",
          "name": "stderr",
          "text": [
            "100%|██████████| 1648877/1648877 [00:01<00:00, 1263317.49it/s]\n"
          ]
        },
        {
          "output_type": "stream",
          "name": "stdout",
          "text": [
            "Extracting ./data/MNIST/raw/t10k-images-idx3-ubyte.gz to ./data/MNIST/raw\n",
            "\n",
            "Downloading http://yann.lecun.com/exdb/mnist/t10k-labels-idx1-ubyte.gz\n",
            "Failed to download (trying next):\n",
            "<urlopen error [SSL: CERTIFICATE_VERIFY_FAILED] certificate verify failed: certificate has expired (_ssl.c:1007)>\n",
            "\n",
            "Downloading https://ossci-datasets.s3.amazonaws.com/mnist/t10k-labels-idx1-ubyte.gz\n",
            "Downloading https://ossci-datasets.s3.amazonaws.com/mnist/t10k-labels-idx1-ubyte.gz to ./data/MNIST/raw/t10k-labels-idx1-ubyte.gz\n"
          ]
        },
        {
          "output_type": "stream",
          "name": "stderr",
          "text": [
            "100%|██████████| 4542/4542 [00:00<00:00, 4925162.56it/s]"
          ]
        },
        {
          "output_type": "stream",
          "name": "stdout",
          "text": [
            "Extracting ./data/MNIST/raw/t10k-labels-idx1-ubyte.gz to ./data/MNIST/raw\n",
            "\n"
          ]
        },
        {
          "output_type": "stream",
          "name": "stderr",
          "text": [
            "\n"
          ]
        }
      ],
      "source": [
        "train_set = torchvision.datasets.MNIST(\"./data/\", train=True, download=True)\n",
        "valid_set = torchvision.datasets.MNIST(\"./data/\", train=False, download=True)"
      ]
    },
    {
      "cell_type": "markdown",
      "metadata": {
        "id": "UOcHM0kP5E98"
      },
      "source": [
        "We stated above that the MNIST dataset contained 70,000 grayscale images of handwritten digits. By executing the following cells, we can see that Keras has partitioned 60,000 of these [PIL Images](https://pillow.readthedocs.io/en/stable/reference/Image.html) for training, and 10,000 for validation (after training)."
      ]
    },
    {
      "cell_type": "markdown",
      "metadata": {
        "id": "0EkwK4bT5E-B"
      },
      "source": [
        "## 1.4 Preparing the Data for Training"
      ]
    },
    {
      "cell_type": "code",
      "execution_count": 6,
      "metadata": {
        "id": "I1adCkVg5E-B",
        "colab": {
          "base_uri": "https://localhost:8080/"
        },
        "outputId": "9b9f78ae-5bbf-4288-ac9b-a01858a3f504"
      },
      "outputs": [
        {
          "output_type": "stream",
          "name": "stderr",
          "text": [
            "/usr/local/lib/python3.10/dist-packages/torchvision/transforms/v2/_deprecated.py:42: UserWarning: The transform `ToTensor()` is deprecated and will be removed in a future release. Instead, please use `v2.Compose([v2.ToImage(), v2.ToDtype(torch.float32, scale=True)])`.Output is equivalent up to float precision.\n",
            "  warnings.warn(\n"
          ]
        }
      ],
      "source": [
        "trans = transforms.Compose([transforms.ToTensor()])"
      ]
    },
    {
      "cell_type": "code",
      "execution_count": 7,
      "metadata": {
        "id": "ue8Qs8RU0nF7"
      },
      "outputs": [],
      "source": [
        "train_set.transform = trans\n",
        "valid_set.transform = trans"
      ]
    },
    {
      "cell_type": "code",
      "execution_count": 8,
      "metadata": {
        "id": "vhfKSYKCpHxf"
      },
      "outputs": [],
      "source": [
        "batch_size = 32\n",
        "\n",
        "train_loader = DataLoader(train_set, batch_size=batch_size, shuffle=True)\n",
        "valid_loader = DataLoader(valid_set, batch_size=batch_size)"
      ]
    },
    {
      "cell_type": "code",
      "source": [],
      "metadata": {
        "id": "DcL8rR2W6048"
      },
      "execution_count": null,
      "outputs": []
    },
    {
      "cell_type": "markdown",
      "metadata": {
        "id": "G-GgiScV5E-B"
      },
      "source": [
        "## 1.5 Creating the Model"
      ]
    },
    {
      "cell_type": "code",
      "execution_count": 9,
      "metadata": {
        "id": "Jy9UhQ1t5E-B",
        "colab": {
          "base_uri": "https://localhost:8080/"
        },
        "outputId": "d0de72ea-db04-4357-e4f2-fd2bdc600290"
      },
      "outputs": [
        {
          "output_type": "execute_result",
          "data": {
            "text/plain": [
              "[]"
            ]
          },
          "metadata": {},
          "execution_count": 9
        }
      ],
      "source": [
        "layers = []\n",
        "layers"
      ]
    },
    {
      "cell_type": "code",
      "execution_count": 10,
      "metadata": {
        "id": "iOOXyJzD5E-C",
        "colab": {
          "base_uri": "https://localhost:8080/"
        },
        "outputId": "ed8214bd-c51e-4390-f5c8-58112ed429a2"
      },
      "outputs": [
        {
          "output_type": "execute_result",
          "data": {
            "text/plain": [
              "[Flatten(start_dim=1, end_dim=-1)]"
            ]
          },
          "metadata": {},
          "execution_count": 10
        }
      ],
      "source": [
        "layers = [\n",
        "    nn.Flatten()\n",
        "]\n",
        "layers"
      ]
    },
    {
      "cell_type": "markdown",
      "metadata": {
        "id": "WwemWkSd5E-C"
      },
      "source": [
        "### 1.5.2 The Input Layer"
      ]
    },
    {
      "cell_type": "code",
      "execution_count": 11,
      "metadata": {
        "id": "kk8D9LXc5E-C"
      },
      "outputs": [],
      "source": [
        "input_size = 1 * 28 * 28"
      ]
    },
    {
      "cell_type": "code",
      "execution_count": 12,
      "metadata": {
        "id": "38iGmUCP5E-C",
        "colab": {
          "base_uri": "https://localhost:8080/"
        },
        "outputId": "018783bc-2d15-4364-d82c-627e98b44977"
      },
      "outputs": [
        {
          "output_type": "execute_result",
          "data": {
            "text/plain": [
              "[Flatten(start_dim=1, end_dim=-1),\n",
              " Linear(in_features=784, out_features=512, bias=True),\n",
              " ReLU()]"
            ]
          },
          "metadata": {},
          "execution_count": 12
        }
      ],
      "source": [
        "layers = [\n",
        "    nn.Flatten(),\n",
        "    nn.Linear(input_size, 512),  # Input\n",
        "    nn.ReLU(),  # Activation for input\n",
        "]\n",
        "layers"
      ]
    },
    {
      "cell_type": "markdown",
      "metadata": {
        "id": "Fg5lq4yd5E-C"
      },
      "source": [
        "### 1.5.3 The Hidden Layer"
      ]
    },
    {
      "cell_type": "code",
      "execution_count": 13,
      "metadata": {
        "id": "cj6ADcK35E-C",
        "colab": {
          "base_uri": "https://localhost:8080/"
        },
        "outputId": "ad2d5872-ea67-450c-948a-a40fefee0f4e"
      },
      "outputs": [
        {
          "output_type": "execute_result",
          "data": {
            "text/plain": [
              "[Flatten(start_dim=1, end_dim=-1),\n",
              " Linear(in_features=784, out_features=512, bias=True),\n",
              " ReLU(),\n",
              " Linear(in_features=512, out_features=512, bias=True),\n",
              " ReLU()]"
            ]
          },
          "metadata": {},
          "execution_count": 13
        }
      ],
      "source": [
        "layers = [\n",
        "    nn.Flatten(),\n",
        "    nn.Linear(input_size, 512),  # Input\n",
        "    nn.ReLU(),  # Activation for input\n",
        "    nn.Linear(512, 512),  # Hidden\n",
        "    nn.ReLU()  # Activation for hidden\n",
        "]\n",
        "layers"
      ]
    },
    {
      "cell_type": "code",
      "execution_count": 14,
      "metadata": {
        "id": "2trTHrf25E-C",
        "colab": {
          "base_uri": "https://localhost:8080/"
        },
        "outputId": "30f9f1bc-1878-444f-971a-f767bb5c88f3"
      },
      "outputs": [
        {
          "output_type": "execute_result",
          "data": {
            "text/plain": [
              "[Flatten(start_dim=1, end_dim=-1),\n",
              " Linear(in_features=784, out_features=512, bias=True),\n",
              " ReLU(),\n",
              " Linear(in_features=512, out_features=512, bias=True),\n",
              " ReLU(),\n",
              " Linear(in_features=512, out_features=10, bias=True)]"
            ]
          },
          "metadata": {},
          "execution_count": 14
        }
      ],
      "source": [
        "n_classes = 10\n",
        "\n",
        "layers = [\n",
        "    nn.Flatten(),\n",
        "    nn.Linear(input_size, 512),  # Input\n",
        "    nn.ReLU(),  # Activation for input\n",
        "    nn.Linear(512, 512),  # Hidden\n",
        "    nn.ReLU(),  # Activation for hidden\n",
        "    nn.Linear(512, n_classes)  # Output\n",
        "]\n",
        "layers"
      ]
    },
    {
      "cell_type": "markdown",
      "metadata": {
        "id": "4C3are0d5E-C"
      },
      "source": [
        "### 1.5.5 Compiling the Model"
      ]
    },
    {
      "cell_type": "code",
      "execution_count": 15,
      "metadata": {
        "id": "7lmQ-G_FuThy",
        "colab": {
          "base_uri": "https://localhost:8080/"
        },
        "outputId": "2a99f397-10cd-4b7f-bd05-64dad3f83871"
      },
      "outputs": [
        {
          "output_type": "execute_result",
          "data": {
            "text/plain": [
              "Sequential(\n",
              "  (0): Flatten(start_dim=1, end_dim=-1)\n",
              "  (1): Linear(in_features=784, out_features=512, bias=True)\n",
              "  (2): ReLU()\n",
              "  (3): Linear(in_features=512, out_features=512, bias=True)\n",
              "  (4): ReLU()\n",
              "  (5): Linear(in_features=512, out_features=10, bias=True)\n",
              ")"
            ]
          },
          "metadata": {},
          "execution_count": 15
        }
      ],
      "source": [
        "model = nn.Sequential(*layers)\n",
        "model"
      ]
    },
    {
      "cell_type": "code",
      "execution_count": 16,
      "metadata": {
        "id": "ynuW56udz7C1",
        "colab": {
          "base_uri": "https://localhost:8080/"
        },
        "outputId": "4682a056-1b5c-45ef-f64d-dfdb4b6e000f"
      },
      "outputs": [
        {
          "output_type": "execute_result",
          "data": {
            "text/plain": [
              "Sequential(\n",
              "  (0): Flatten(start_dim=1, end_dim=-1)\n",
              "  (1): Linear(in_features=784, out_features=512, bias=True)\n",
              "  (2): ReLU()\n",
              "  (3): Linear(in_features=512, out_features=512, bias=True)\n",
              "  (4): ReLU()\n",
              "  (5): Linear(in_features=512, out_features=10, bias=True)\n",
              ")"
            ]
          },
          "metadata": {},
          "execution_count": 16
        }
      ],
      "source": [
        "model.to(device)"
      ]
    },
    {
      "cell_type": "code",
      "execution_count": 17,
      "metadata": {
        "id": "VlCPs5KDz9Ii",
        "colab": {
          "base_uri": "https://localhost:8080/"
        },
        "outputId": "f7461f14-afea-4b96-c11f-585e1bcd35a2"
      },
      "outputs": [
        {
          "output_type": "execute_result",
          "data": {
            "text/plain": [
              "device(type='cuda', index=0)"
            ]
          },
          "metadata": {},
          "execution_count": 17
        }
      ],
      "source": [
        "next(model.parameters()).device"
      ]
    },
    {
      "cell_type": "code",
      "execution_count": 18,
      "metadata": {
        "id": "w6B6FWoC5E-D"
      },
      "outputs": [],
      "source": [
        "model = torch.compile(model)"
      ]
    },
    {
      "cell_type": "markdown",
      "metadata": {
        "id": "5OB01vfO5E-D"
      },
      "source": [
        "## 1.6 Training the Model"
      ]
    },
    {
      "cell_type": "code",
      "execution_count": 19,
      "metadata": {
        "id": "jG8Oxrz0z_y2"
      },
      "outputs": [],
      "source": [
        "loss_function = nn.CrossEntropyLoss()"
      ]
    },
    {
      "cell_type": "code",
      "execution_count": 20,
      "metadata": {
        "id": "caPp4RAh5E-D"
      },
      "outputs": [],
      "source": [
        "optimizer = Adam(model.parameters())"
      ]
    },
    {
      "cell_type": "markdown",
      "metadata": {
        "id": "un-AVWtw5E-D"
      },
      "source": [
        "### 1.6.2 Calculating Accuracy"
      ]
    },
    {
      "cell_type": "code",
      "execution_count": 21,
      "metadata": {
        "id": "hV8XtXVx5E-D",
        "colab": {
          "base_uri": "https://localhost:8080/"
        },
        "outputId": "f45c050c-c73f-4c06-8fc6-77c04d8f75c9"
      },
      "outputs": [
        {
          "output_type": "execute_result",
          "data": {
            "text/plain": [
              "60000"
            ]
          },
          "metadata": {},
          "execution_count": 21
        }
      ],
      "source": [
        "train_N = len(train_loader.dataset)\n",
        "valid_N = len(valid_loader.dataset)\n",
        "train_N"
      ]
    },
    {
      "cell_type": "code",
      "execution_count": 22,
      "metadata": {
        "id": "FPeOBdGp5E-D"
      },
      "outputs": [],
      "source": [
        "def get_batch_accuracy(output, y, N):\n",
        "    pred = output.argmax(dim=1, keepdim=True)\n",
        "    correct = pred.eq(y.view_as(pred)).sum().item()\n",
        "    return correct / N"
      ]
    },
    {
      "cell_type": "markdown",
      "metadata": {
        "id": "Mi7uTTHO5E-D"
      },
      "source": [
        "### 1.6.3 The Train Function"
      ]
    },
    {
      "cell_type": "code",
      "execution_count": 26,
      "metadata": {
        "id": "8iPLK1V53w3R"
      },
      "outputs": [],
      "source": [
        "def train():\n",
        "    loss = 0\n",
        "    accuracy = 0\n",
        "\n",
        "    model.train()\n",
        "    for x, y in train_loader:\n",
        "        x, y = x.to(device), y.to(device)\n",
        "        output = model(x)\n",
        "        optimizer.zero_grad()\n",
        "        batch_loss = loss_function(output, y)\n",
        "        batch_loss.backward()\n",
        "        optimizer.step()\n",
        "\n",
        "        loss += batch_loss.item()\n",
        "        accuracy += get_batch_accuracy(output, y, train_N)\n",
        "    print('Train - Loss: {:.4f} Accuracy: {:.4f}'.format(loss, accuracy))"
      ]
    },
    {
      "cell_type": "markdown",
      "metadata": {
        "id": "0P6Sx9Uz5E-D"
      },
      "source": [
        "### 1.6.4 The Validate Function"
      ]
    },
    {
      "cell_type": "code",
      "execution_count": 24,
      "metadata": {
        "id": "8WlmJPR5yZJ5"
      },
      "outputs": [],
      "source": [
        "def validate():\n",
        "    loss = 0\n",
        "    accuracy = 0\n",
        "\n",
        "    model.eval()\n",
        "    with torch.no_grad():\n",
        "        for x, y in valid_loader:\n",
        "            x, y = x.to(device), y.to(device)\n",
        "            output = model(x)\n",
        "\n",
        "            loss += loss_function(output, y).item()\n",
        "            accuracy += get_batch_accuracy(output, y, valid_N)\n",
        "    print('Valid - Loss: {:.4f} Accuracy: {:.4f}'.format(loss, accuracy))"
      ]
    },
    {
      "cell_type": "markdown",
      "metadata": {
        "id": "Q4fYRULZ5E-D"
      },
      "source": [
        "### 1.6.5 The Training Loop"
      ]
    },
    {
      "cell_type": "code",
      "execution_count": 31,
      "metadata": {
        "id": "SElV0J_aw-bW",
        "colab": {
          "base_uri": "https://localhost:8080/"
        },
        "outputId": "c2b791c3-1f5d-468e-90d9-30f6438b8b2c"
      },
      "outputs": [
        {
          "output_type": "stream",
          "name": "stdout",
          "text": [
            "Epoch: 0\n"
          ]
        },
        {
          "output_type": "stream",
          "name": "stderr",
          "text": [
            "W1022 20:02:31.854000 134525777928832 torch/_dynamo/convert_frame.py:1009] WON'T CONVERT inner /usr/local/lib/python3.10/dist-packages/torch/_dynamo/external_utils.py line 36 \n",
            "W1022 20:02:31.854000 134525777928832 torch/_dynamo/convert_frame.py:1009] due to: \n",
            "W1022 20:02:31.854000 134525777928832 torch/_dynamo/convert_frame.py:1009] Traceback (most recent call last):\n",
            "W1022 20:02:31.854000 134525777928832 torch/_dynamo/convert_frame.py:1009]   File \"/usr/local/lib/python3.10/dist-packages/torch/_dynamo/convert_frame.py\", line 948, in __call__\n",
            "W1022 20:02:31.854000 134525777928832 torch/_dynamo/convert_frame.py:1009]     result = self._inner_convert(\n",
            "W1022 20:02:31.854000 134525777928832 torch/_dynamo/convert_frame.py:1009]   File \"/usr/local/lib/python3.10/dist-packages/torch/_dynamo/convert_frame.py\", line 472, in __call__\n",
            "W1022 20:02:31.854000 134525777928832 torch/_dynamo/convert_frame.py:1009]     return _compile(\n",
            "W1022 20:02:31.854000 134525777928832 torch/_dynamo/convert_frame.py:1009]   File \"/usr/local/lib/python3.10/dist-packages/torch/_utils_internal.py\", line 84, in wrapper_function\n",
            "W1022 20:02:31.854000 134525777928832 torch/_dynamo/convert_frame.py:1009]     return StrobelightCompileTimeProfiler.profile_compile_time(\n",
            "W1022 20:02:31.854000 134525777928832 torch/_dynamo/convert_frame.py:1009]   File \"/usr/local/lib/python3.10/dist-packages/torch/_strobelight/compile_time_profiler.py\", line 129, in profile_compile_time\n",
            "W1022 20:02:31.854000 134525777928832 torch/_dynamo/convert_frame.py:1009]     return func(*args, **kwargs)\n",
            "W1022 20:02:31.854000 134525777928832 torch/_dynamo/convert_frame.py:1009]   File \"/usr/lib/python3.10/contextlib.py\", line 79, in inner\n",
            "W1022 20:02:31.854000 134525777928832 torch/_dynamo/convert_frame.py:1009]     return func(*args, **kwds)\n",
            "W1022 20:02:31.854000 134525777928832 torch/_dynamo/convert_frame.py:1009]   File \"/usr/local/lib/python3.10/dist-packages/torch/_dynamo/convert_frame.py\", line 817, in _compile\n",
            "W1022 20:02:31.854000 134525777928832 torch/_dynamo/convert_frame.py:1009]     guarded_code = compile_inner(code, one_graph, hooks, transform)\n",
            "W1022 20:02:31.854000 134525777928832 torch/_dynamo/convert_frame.py:1009]   File \"/usr/local/lib/python3.10/dist-packages/torch/_dynamo/utils.py\", line 231, in time_wrapper\n",
            "W1022 20:02:31.854000 134525777928832 torch/_dynamo/convert_frame.py:1009]     r = func(*args, **kwargs)\n",
            "W1022 20:02:31.854000 134525777928832 torch/_dynamo/convert_frame.py:1009]   File \"/usr/local/lib/python3.10/dist-packages/torch/_dynamo/convert_frame.py\", line 636, in compile_inner\n",
            "W1022 20:02:31.854000 134525777928832 torch/_dynamo/convert_frame.py:1009]     out_code = transform_code_object(code, transform)\n",
            "W1022 20:02:31.854000 134525777928832 torch/_dynamo/convert_frame.py:1009]   File \"/usr/local/lib/python3.10/dist-packages/torch/_dynamo/bytecode_transformation.py\", line 1185, in transform_code_object\n",
            "W1022 20:02:31.854000 134525777928832 torch/_dynamo/convert_frame.py:1009]     transformations(instructions, code_options)\n",
            "W1022 20:02:31.854000 134525777928832 torch/_dynamo/convert_frame.py:1009]   File \"/usr/local/lib/python3.10/dist-packages/torch/_dynamo/convert_frame.py\", line 178, in _fn\n",
            "W1022 20:02:31.854000 134525777928832 torch/_dynamo/convert_frame.py:1009]     return fn(*args, **kwargs)\n",
            "W1022 20:02:31.854000 134525777928832 torch/_dynamo/convert_frame.py:1009]   File \"/usr/local/lib/python3.10/dist-packages/torch/_dynamo/convert_frame.py\", line 582, in transform\n",
            "W1022 20:02:31.854000 134525777928832 torch/_dynamo/convert_frame.py:1009]     tracer.run()\n",
            "W1022 20:02:31.854000 134525777928832 torch/_dynamo/convert_frame.py:1009]   File \"/usr/local/lib/python3.10/dist-packages/torch/_dynamo/symbolic_convert.py\", line 2451, in run\n",
            "W1022 20:02:31.854000 134525777928832 torch/_dynamo/convert_frame.py:1009]     super().run()\n",
            "W1022 20:02:31.854000 134525777928832 torch/_dynamo/convert_frame.py:1009]   File \"/usr/local/lib/python3.10/dist-packages/torch/_dynamo/symbolic_convert.py\", line 893, in run\n",
            "W1022 20:02:31.854000 134525777928832 torch/_dynamo/convert_frame.py:1009]     while self.step():\n",
            "W1022 20:02:31.854000 134525777928832 torch/_dynamo/convert_frame.py:1009]   File \"/usr/local/lib/python3.10/dist-packages/torch/_dynamo/symbolic_convert.py\", line 805, in step\n",
            "W1022 20:02:31.854000 134525777928832 torch/_dynamo/convert_frame.py:1009]     self.dispatch_table[inst.opcode](self, inst)\n",
            "W1022 20:02:31.854000 134525777928832 torch/_dynamo/convert_frame.py:1009]   File \"/usr/local/lib/python3.10/dist-packages/torch/_dynamo/symbolic_convert.py\", line 2642, in RETURN_VALUE\n",
            "W1022 20:02:31.854000 134525777928832 torch/_dynamo/convert_frame.py:1009]     self._return(inst)\n",
            "W1022 20:02:31.854000 134525777928832 torch/_dynamo/convert_frame.py:1009]   File \"/usr/local/lib/python3.10/dist-packages/torch/_dynamo/symbolic_convert.py\", line 2627, in _return\n",
            "W1022 20:02:31.854000 134525777928832 torch/_dynamo/convert_frame.py:1009]     self.output.compile_subgraph(\n",
            "W1022 20:02:31.854000 134525777928832 torch/_dynamo/convert_frame.py:1009]   File \"/usr/local/lib/python3.10/dist-packages/torch/_dynamo/output_graph.py\", line 1098, in compile_subgraph\n",
            "W1022 20:02:31.854000 134525777928832 torch/_dynamo/convert_frame.py:1009]     self.compile_and_call_fx_graph(tx, list(reversed(stack_values)), root)\n",
            "W1022 20:02:31.854000 134525777928832 torch/_dynamo/convert_frame.py:1009]   File \"/usr/lib/python3.10/contextlib.py\", line 79, in inner\n",
            "W1022 20:02:31.854000 134525777928832 torch/_dynamo/convert_frame.py:1009]     return func(*args, **kwds)\n",
            "W1022 20:02:31.854000 134525777928832 torch/_dynamo/convert_frame.py:1009]   File \"/usr/local/lib/python3.10/dist-packages/torch/_dynamo/output_graph.py\", line 1318, in compile_and_call_fx_graph\n",
            "W1022 20:02:31.854000 134525777928832 torch/_dynamo/convert_frame.py:1009]     compiled_fn = self.call_user_compiler(gm)\n",
            "W1022 20:02:31.854000 134525777928832 torch/_dynamo/convert_frame.py:1009]   File \"/usr/local/lib/python3.10/dist-packages/torch/_dynamo/utils.py\", line 231, in time_wrapper\n",
            "W1022 20:02:31.854000 134525777928832 torch/_dynamo/convert_frame.py:1009]     r = func(*args, **kwargs)\n",
            "W1022 20:02:31.854000 134525777928832 torch/_dynamo/convert_frame.py:1009]   File \"/usr/local/lib/python3.10/dist-packages/torch/_dynamo/output_graph.py\", line 1409, in call_user_compiler\n",
            "W1022 20:02:31.854000 134525777928832 torch/_dynamo/convert_frame.py:1009]     raise BackendCompilerFailed(self.compiler_fn, e).with_traceback(\n",
            "W1022 20:02:31.854000 134525777928832 torch/_dynamo/convert_frame.py:1009]   File \"/usr/local/lib/python3.10/dist-packages/torch/_dynamo/output_graph.py\", line 1390, in call_user_compiler\n",
            "W1022 20:02:31.854000 134525777928832 torch/_dynamo/convert_frame.py:1009]     compiled_fn = compiler_fn(gm, self.example_inputs())\n",
            "W1022 20:02:31.854000 134525777928832 torch/_dynamo/convert_frame.py:1009]   File \"/usr/local/lib/python3.10/dist-packages/torch/_dynamo/repro/after_dynamo.py\", line 129, in __call__\n",
            "W1022 20:02:31.854000 134525777928832 torch/_dynamo/convert_frame.py:1009]     compiled_gm = compiler_fn(gm, example_inputs)\n",
            "W1022 20:02:31.854000 134525777928832 torch/_dynamo/convert_frame.py:1009]   File \"/usr/local/lib/python3.10/dist-packages/torch/__init__.py\", line 1951, in __call__\n",
            "W1022 20:02:31.854000 134525777928832 torch/_dynamo/convert_frame.py:1009]     return compile_fx(model_, inputs_, config_patches=self.config)\n",
            "W1022 20:02:31.854000 134525777928832 torch/_dynamo/convert_frame.py:1009]   File \"/usr/lib/python3.10/contextlib.py\", line 79, in inner\n",
            "W1022 20:02:31.854000 134525777928832 torch/_dynamo/convert_frame.py:1009]     return func(*args, **kwds)\n",
            "W1022 20:02:31.854000 134525777928832 torch/_dynamo/convert_frame.py:1009]   File \"/usr/local/lib/python3.10/dist-packages/torch/_inductor/compile_fx.py\", line 1505, in compile_fx\n",
            "W1022 20:02:31.854000 134525777928832 torch/_dynamo/convert_frame.py:1009]     return aot_autograd(\n",
            "W1022 20:02:31.854000 134525777928832 torch/_dynamo/convert_frame.py:1009]   File \"/usr/local/lib/python3.10/dist-packages/torch/_dynamo/backends/common.py\", line 69, in __call__\n",
            "W1022 20:02:31.854000 134525777928832 torch/_dynamo/convert_frame.py:1009]     cg = aot_module_simplified(gm, example_inputs, **self.kwargs)\n",
            "W1022 20:02:31.854000 134525777928832 torch/_dynamo/convert_frame.py:1009]   File \"/usr/local/lib/python3.10/dist-packages/torch/_functorch/aot_autograd.py\", line 954, in aot_module_simplified\n",
            "W1022 20:02:31.854000 134525777928832 torch/_dynamo/convert_frame.py:1009]     compiled_fn, _ = create_aot_dispatcher_function(\n",
            "W1022 20:02:31.854000 134525777928832 torch/_dynamo/convert_frame.py:1009]   File \"/usr/local/lib/python3.10/dist-packages/torch/_dynamo/utils.py\", line 231, in time_wrapper\n",
            "W1022 20:02:31.854000 134525777928832 torch/_dynamo/convert_frame.py:1009]     r = func(*args, **kwargs)\n",
            "W1022 20:02:31.854000 134525777928832 torch/_dynamo/convert_frame.py:1009]   File \"/usr/local/lib/python3.10/dist-packages/torch/_functorch/aot_autograd.py\", line 687, in create_aot_dispatcher_function\n",
            "W1022 20:02:31.854000 134525777928832 torch/_dynamo/convert_frame.py:1009]     compiled_fn, fw_metadata = compiler_fn(\n",
            "W1022 20:02:31.854000 134525777928832 torch/_dynamo/convert_frame.py:1009]   File \"/usr/local/lib/python3.10/dist-packages/torch/_functorch/_aot_autograd/jit_compile_runtime_wrappers.py\", line 461, in aot_dispatch_autograd\n",
            "W1022 20:02:31.854000 134525777928832 torch/_dynamo/convert_frame.py:1009]     compiled_fw_func = aot_config.fw_compiler(fw_module, adjusted_flat_args)\n",
            "W1022 20:02:31.854000 134525777928832 torch/_dynamo/convert_frame.py:1009]   File \"/usr/local/lib/python3.10/dist-packages/torch/_dynamo/utils.py\", line 231, in time_wrapper\n",
            "W1022 20:02:31.854000 134525777928832 torch/_dynamo/convert_frame.py:1009]     r = func(*args, **kwargs)\n",
            "W1022 20:02:31.854000 134525777928832 torch/_dynamo/convert_frame.py:1009]   File \"/usr/local/lib/python3.10/dist-packages/torch/_inductor/compile_fx.py\", line 1410, in fw_compiler_base\n",
            "W1022 20:02:31.854000 134525777928832 torch/_dynamo/convert_frame.py:1009]     return inner_compile(\n",
            "W1022 20:02:31.854000 134525777928832 torch/_dynamo/convert_frame.py:1009]   File \"/usr/local/lib/python3.10/dist-packages/torch/_dynamo/repro/after_aot.py\", line 84, in debug_wrapper\n",
            "W1022 20:02:31.854000 134525777928832 torch/_dynamo/convert_frame.py:1009]     inner_compiled_fn = compiler_fn(gm, example_inputs)\n",
            "W1022 20:02:31.854000 134525777928832 torch/_dynamo/convert_frame.py:1009]   File \"/usr/local/lib/python3.10/dist-packages/torch/_inductor/debug.py\", line 304, in inner\n",
            "W1022 20:02:31.854000 134525777928832 torch/_dynamo/convert_frame.py:1009]     return fn(*args, **kwargs)\n",
            "W1022 20:02:31.854000 134525777928832 torch/_dynamo/convert_frame.py:1009]   File \"/usr/lib/python3.10/contextlib.py\", line 79, in inner\n",
            "W1022 20:02:31.854000 134525777928832 torch/_dynamo/convert_frame.py:1009]     return func(*args, **kwds)\n",
            "W1022 20:02:31.854000 134525777928832 torch/_dynamo/convert_frame.py:1009]   File \"/usr/lib/python3.10/contextlib.py\", line 79, in inner\n",
            "W1022 20:02:31.854000 134525777928832 torch/_dynamo/convert_frame.py:1009]     return func(*args, **kwds)\n",
            "W1022 20:02:31.854000 134525777928832 torch/_dynamo/convert_frame.py:1009]   File \"/usr/local/lib/python3.10/dist-packages/torch/_dynamo/utils.py\", line 231, in time_wrapper\n",
            "W1022 20:02:31.854000 134525777928832 torch/_dynamo/convert_frame.py:1009]     r = func(*args, **kwargs)\n",
            "W1022 20:02:31.854000 134525777928832 torch/_dynamo/convert_frame.py:1009]   File \"/usr/local/lib/python3.10/dist-packages/torch/_inductor/compile_fx.py\", line 527, in compile_fx_inner\n",
            "W1022 20:02:31.854000 134525777928832 torch/_dynamo/convert_frame.py:1009]     compiled_graph = fx_codegen_and_compile(\n",
            "W1022 20:02:31.854000 134525777928832 torch/_dynamo/convert_frame.py:1009]   File \"/usr/lib/python3.10/contextlib.py\", line 79, in inner\n",
            "W1022 20:02:31.854000 134525777928832 torch/_dynamo/convert_frame.py:1009]     return func(*args, **kwds)\n",
            "W1022 20:02:31.854000 134525777928832 torch/_dynamo/convert_frame.py:1009]   File \"/usr/local/lib/python3.10/dist-packages/torch/_inductor/compile_fx.py\", line 831, in fx_codegen_and_compile\n",
            "W1022 20:02:31.854000 134525777928832 torch/_dynamo/convert_frame.py:1009]     compiled_fn = graph.compile_to_fn()\n",
            "W1022 20:02:31.854000 134525777928832 torch/_dynamo/convert_frame.py:1009]   File \"/usr/local/lib/python3.10/dist-packages/torch/_inductor/graph.py\", line 1751, in compile_to_fn\n",
            "W1022 20:02:31.854000 134525777928832 torch/_dynamo/convert_frame.py:1009]     return self.compile_to_module().call\n",
            "W1022 20:02:31.854000 134525777928832 torch/_dynamo/convert_frame.py:1009]   File \"/usr/local/lib/python3.10/dist-packages/torch/_dynamo/utils.py\", line 231, in time_wrapper\n",
            "W1022 20:02:31.854000 134525777928832 torch/_dynamo/convert_frame.py:1009]     r = func(*args, **kwargs)\n",
            "W1022 20:02:31.854000 134525777928832 torch/_dynamo/convert_frame.py:1009]   File \"/usr/local/lib/python3.10/dist-packages/torch/_inductor/graph.py\", line 1680, in compile_to_module\n",
            "W1022 20:02:31.854000 134525777928832 torch/_dynamo/convert_frame.py:1009]     self.codegen_with_cpp_wrapper() if self.cpp_wrapper else self.codegen()\n",
            "W1022 20:02:31.854000 134525777928832 torch/_dynamo/convert_frame.py:1009]   File \"/usr/local/lib/python3.10/dist-packages/torch/_inductor/graph.py\", line 1636, in codegen\n",
            "W1022 20:02:31.854000 134525777928832 torch/_dynamo/convert_frame.py:1009]     self.scheduler = Scheduler(self.buffers)\n",
            "W1022 20:02:31.854000 134525777928832 torch/_dynamo/convert_frame.py:1009]   File \"/usr/local/lib/python3.10/dist-packages/torch/_dynamo/utils.py\", line 231, in time_wrapper\n",
            "W1022 20:02:31.854000 134525777928832 torch/_dynamo/convert_frame.py:1009]     r = func(*args, **kwargs)\n",
            "W1022 20:02:31.854000 134525777928832 torch/_dynamo/convert_frame.py:1009]   File \"/usr/local/lib/python3.10/dist-packages/torch/_inductor/scheduler.py\", line 1364, in __init__\n",
            "W1022 20:02:31.854000 134525777928832 torch/_dynamo/convert_frame.py:1009]     self.nodes = [self.create_scheduler_node(n) for n in nodes]\n",
            "W1022 20:02:31.854000 134525777928832 torch/_dynamo/convert_frame.py:1009]   File \"/usr/local/lib/python3.10/dist-packages/torch/_inductor/scheduler.py\", line 1364, in <listcomp>\n",
            "W1022 20:02:31.854000 134525777928832 torch/_dynamo/convert_frame.py:1009]     self.nodes = [self.create_scheduler_node(n) for n in nodes]\n",
            "W1022 20:02:31.854000 134525777928832 torch/_dynamo/convert_frame.py:1009]   File \"/usr/local/lib/python3.10/dist-packages/torch/_inductor/scheduler.py\", line 1462, in create_scheduler_node\n",
            "W1022 20:02:31.854000 134525777928832 torch/_dynamo/convert_frame.py:1009]     return SchedulerNode(self, node)\n",
            "W1022 20:02:31.854000 134525777928832 torch/_dynamo/convert_frame.py:1009]   File \"/usr/local/lib/python3.10/dist-packages/torch/_inductor/scheduler.py\", line 731, in __init__\n",
            "W1022 20:02:31.854000 134525777928832 torch/_dynamo/convert_frame.py:1009]     self._compute_attrs()\n",
            "W1022 20:02:31.854000 134525777928832 torch/_dynamo/convert_frame.py:1009]   File \"/usr/local/lib/python3.10/dist-packages/torch/_inductor/scheduler.py\", line 742, in _compute_attrs\n",
            "W1022 20:02:31.854000 134525777928832 torch/_dynamo/convert_frame.py:1009]     group_fn = self.scheduler.get_backend(self.node.get_device()).group_fn\n",
            "W1022 20:02:31.854000 134525777928832 torch/_dynamo/convert_frame.py:1009]   File \"/usr/local/lib/python3.10/dist-packages/torch/_inductor/scheduler.py\", line 2663, in get_backend\n",
            "W1022 20:02:31.854000 134525777928832 torch/_dynamo/convert_frame.py:1009]     self.backends[device] = self.create_backend(device)\n",
            "W1022 20:02:31.854000 134525777928832 torch/_dynamo/convert_frame.py:1009]   File \"/usr/local/lib/python3.10/dist-packages/torch/_inductor/scheduler.py\", line 2655, in create_backend\n",
            "W1022 20:02:31.854000 134525777928832 torch/_dynamo/convert_frame.py:1009]     raise RuntimeError(\n",
            "W1022 20:02:31.854000 134525777928832 torch/_dynamo/convert_frame.py:1009] torch._dynamo.exc.BackendCompilerFailed: backend='inductor' raised:\n",
            "W1022 20:02:31.854000 134525777928832 torch/_dynamo/convert_frame.py:1009] RuntimeError: Cannot find a working triton installation. More information on installing Triton can be found at https://github.com/openai/triton\n",
            "W1022 20:02:31.854000 134525777928832 torch/_dynamo/convert_frame.py:1009] \n",
            "W1022 20:02:31.854000 134525777928832 torch/_dynamo/convert_frame.py:1009] Set TORCH_LOGS=\"+dynamo\" and TORCHDYNAMO_VERBOSE=1 for more information\n",
            "W1022 20:02:31.854000 134525777928832 torch/_dynamo/convert_frame.py:1009] \n",
            "W1022 20:02:31.854000 134525777928832 torch/_dynamo/convert_frame.py:1009] Traceback (most recent call last):\n",
            "W1022 20:02:31.854000 134525777928832 torch/_dynamo/convert_frame.py:1009]   File \"/usr/local/lib/python3.10/dist-packages/torch/_dynamo/convert_frame.py\", line 948, in __call__\n",
            "W1022 20:02:31.854000 134525777928832 torch/_dynamo/convert_frame.py:1009]     result = self._inner_convert(\n",
            "W1022 20:02:31.854000 134525777928832 torch/_dynamo/convert_frame.py:1009]   File \"/usr/local/lib/python3.10/dist-packages/torch/_dynamo/convert_frame.py\", line 472, in __call__\n",
            "W1022 20:02:31.854000 134525777928832 torch/_dynamo/convert_frame.py:1009]     return _compile(\n",
            "W1022 20:02:31.854000 134525777928832 torch/_dynamo/convert_frame.py:1009]   File \"/usr/local/lib/python3.10/dist-packages/torch/_utils_internal.py\", line 84, in wrapper_function\n",
            "W1022 20:02:31.854000 134525777928832 torch/_dynamo/convert_frame.py:1009]     return StrobelightCompileTimeProfiler.profile_compile_time(\n",
            "W1022 20:02:31.854000 134525777928832 torch/_dynamo/convert_frame.py:1009]   File \"/usr/local/lib/python3.10/dist-packages/torch/_strobelight/compile_time_profiler.py\", line 129, in profile_compile_time\n",
            "W1022 20:02:31.854000 134525777928832 torch/_dynamo/convert_frame.py:1009]     return func(*args, **kwargs)\n",
            "W1022 20:02:31.854000 134525777928832 torch/_dynamo/convert_frame.py:1009]   File \"/usr/lib/python3.10/contextlib.py\", line 79, in inner\n",
            "W1022 20:02:31.854000 134525777928832 torch/_dynamo/convert_frame.py:1009]     return func(*args, **kwds)\n",
            "W1022 20:02:31.854000 134525777928832 torch/_dynamo/convert_frame.py:1009]   File \"/usr/local/lib/python3.10/dist-packages/torch/_dynamo/convert_frame.py\", line 817, in _compile\n",
            "W1022 20:02:31.854000 134525777928832 torch/_dynamo/convert_frame.py:1009]     guarded_code = compile_inner(code, one_graph, hooks, transform)\n",
            "W1022 20:02:31.854000 134525777928832 torch/_dynamo/convert_frame.py:1009]   File \"/usr/local/lib/python3.10/dist-packages/torch/_dynamo/utils.py\", line 231, in time_wrapper\n",
            "W1022 20:02:31.854000 134525777928832 torch/_dynamo/convert_frame.py:1009]     r = func(*args, **kwargs)\n",
            "W1022 20:02:31.854000 134525777928832 torch/_dynamo/convert_frame.py:1009]   File \"/usr/local/lib/python3.10/dist-packages/torch/_dynamo/convert_frame.py\", line 636, in compile_inner\n",
            "W1022 20:02:31.854000 134525777928832 torch/_dynamo/convert_frame.py:1009]     out_code = transform_code_object(code, transform)\n",
            "W1022 20:02:31.854000 134525777928832 torch/_dynamo/convert_frame.py:1009]   File \"/usr/local/lib/python3.10/dist-packages/torch/_dynamo/bytecode_transformation.py\", line 1185, in transform_code_object\n",
            "W1022 20:02:31.854000 134525777928832 torch/_dynamo/convert_frame.py:1009]     transformations(instructions, code_options)\n",
            "W1022 20:02:31.854000 134525777928832 torch/_dynamo/convert_frame.py:1009]   File \"/usr/local/lib/python3.10/dist-packages/torch/_dynamo/convert_frame.py\", line 178, in _fn\n",
            "W1022 20:02:31.854000 134525777928832 torch/_dynamo/convert_frame.py:1009]     return fn(*args, **kwargs)\n",
            "W1022 20:02:31.854000 134525777928832 torch/_dynamo/convert_frame.py:1009]   File \"/usr/local/lib/python3.10/dist-packages/torch/_dynamo/convert_frame.py\", line 582, in transform\n",
            "W1022 20:02:31.854000 134525777928832 torch/_dynamo/convert_frame.py:1009]     tracer.run()\n",
            "W1022 20:02:31.854000 134525777928832 torch/_dynamo/convert_frame.py:1009]   File \"/usr/local/lib/python3.10/dist-packages/torch/_dynamo/symbolic_convert.py\", line 2451, in run\n",
            "W1022 20:02:31.854000 134525777928832 torch/_dynamo/convert_frame.py:1009]     super().run()\n",
            "W1022 20:02:31.854000 134525777928832 torch/_dynamo/convert_frame.py:1009]   File \"/usr/local/lib/python3.10/dist-packages/torch/_dynamo/symbolic_convert.py\", line 893, in run\n",
            "W1022 20:02:31.854000 134525777928832 torch/_dynamo/convert_frame.py:1009]     while self.step():\n",
            "W1022 20:02:31.854000 134525777928832 torch/_dynamo/convert_frame.py:1009]   File \"/usr/local/lib/python3.10/dist-packages/torch/_dynamo/symbolic_convert.py\", line 805, in step\n",
            "W1022 20:02:31.854000 134525777928832 torch/_dynamo/convert_frame.py:1009]     self.dispatch_table[inst.opcode](self, inst)\n",
            "W1022 20:02:31.854000 134525777928832 torch/_dynamo/convert_frame.py:1009]   File \"/usr/local/lib/python3.10/dist-packages/torch/_dynamo/symbolic_convert.py\", line 2642, in RETURN_VALUE\n",
            "W1022 20:02:31.854000 134525777928832 torch/_dynamo/convert_frame.py:1009]     self._return(inst)\n",
            "W1022 20:02:31.854000 134525777928832 torch/_dynamo/convert_frame.py:1009]   File \"/usr/local/lib/python3.10/dist-packages/torch/_dynamo/symbolic_convert.py\", line 2627, in _return\n",
            "W1022 20:02:31.854000 134525777928832 torch/_dynamo/convert_frame.py:1009]     self.output.compile_subgraph(\n",
            "W1022 20:02:31.854000 134525777928832 torch/_dynamo/convert_frame.py:1009]   File \"/usr/local/lib/python3.10/dist-packages/torch/_dynamo/output_graph.py\", line 1098, in compile_subgraph\n",
            "W1022 20:02:31.854000 134525777928832 torch/_dynamo/convert_frame.py:1009]     self.compile_and_call_fx_graph(tx, list(reversed(stack_values)), root)\n",
            "W1022 20:02:31.854000 134525777928832 torch/_dynamo/convert_frame.py:1009]   File \"/usr/lib/python3.10/contextlib.py\", line 79, in inner\n",
            "W1022 20:02:31.854000 134525777928832 torch/_dynamo/convert_frame.py:1009]     return func(*args, **kwds)\n",
            "W1022 20:02:31.854000 134525777928832 torch/_dynamo/convert_frame.py:1009]   File \"/usr/local/lib/python3.10/dist-packages/torch/_dynamo/output_graph.py\", line 1318, in compile_and_call_fx_graph\n",
            "W1022 20:02:31.854000 134525777928832 torch/_dynamo/convert_frame.py:1009]     compiled_fn = self.call_user_compiler(gm)\n",
            "W1022 20:02:31.854000 134525777928832 torch/_dynamo/convert_frame.py:1009]   File \"/usr/local/lib/python3.10/dist-packages/torch/_dynamo/utils.py\", line 231, in time_wrapper\n",
            "W1022 20:02:31.854000 134525777928832 torch/_dynamo/convert_frame.py:1009]     r = func(*args, **kwargs)\n",
            "W1022 20:02:31.854000 134525777928832 torch/_dynamo/convert_frame.py:1009]   File \"/usr/local/lib/python3.10/dist-packages/torch/_dynamo/output_graph.py\", line 1409, in call_user_compiler\n",
            "W1022 20:02:31.854000 134525777928832 torch/_dynamo/convert_frame.py:1009]     raise BackendCompilerFailed(self.compiler_fn, e).with_traceback(\n",
            "W1022 20:02:31.854000 134525777928832 torch/_dynamo/convert_frame.py:1009]   File \"/usr/local/lib/python3.10/dist-packages/torch/_dynamo/output_graph.py\", line 1390, in call_user_compiler\n",
            "W1022 20:02:31.854000 134525777928832 torch/_dynamo/convert_frame.py:1009]     compiled_fn = compiler_fn(gm, self.example_inputs())\n",
            "W1022 20:02:31.854000 134525777928832 torch/_dynamo/convert_frame.py:1009]   File \"/usr/local/lib/python3.10/dist-packages/torch/_dynamo/repro/after_dynamo.py\", line 129, in __call__\n",
            "W1022 20:02:31.854000 134525777928832 torch/_dynamo/convert_frame.py:1009]     compiled_gm = compiler_fn(gm, example_inputs)\n",
            "W1022 20:02:31.854000 134525777928832 torch/_dynamo/convert_frame.py:1009]   File \"/usr/local/lib/python3.10/dist-packages/torch/__init__.py\", line 1951, in __call__\n",
            "W1022 20:02:31.854000 134525777928832 torch/_dynamo/convert_frame.py:1009]     return compile_fx(model_, inputs_, config_patches=self.config)\n",
            "W1022 20:02:31.854000 134525777928832 torch/_dynamo/convert_frame.py:1009]   File \"/usr/lib/python3.10/contextlib.py\", line 79, in inner\n",
            "W1022 20:02:31.854000 134525777928832 torch/_dynamo/convert_frame.py:1009]     return func(*args, **kwds)\n",
            "W1022 20:02:31.854000 134525777928832 torch/_dynamo/convert_frame.py:1009]   File \"/usr/local/lib/python3.10/dist-packages/torch/_inductor/compile_fx.py\", line 1505, in compile_fx\n",
            "W1022 20:02:31.854000 134525777928832 torch/_dynamo/convert_frame.py:1009]     return aot_autograd(\n",
            "W1022 20:02:31.854000 134525777928832 torch/_dynamo/convert_frame.py:1009]   File \"/usr/local/lib/python3.10/dist-packages/torch/_dynamo/backends/common.py\", line 69, in __call__\n",
            "W1022 20:02:31.854000 134525777928832 torch/_dynamo/convert_frame.py:1009]     cg = aot_module_simplified(gm, example_inputs, **self.kwargs)\n",
            "W1022 20:02:31.854000 134525777928832 torch/_dynamo/convert_frame.py:1009]   File \"/usr/local/lib/python3.10/dist-packages/torch/_functorch/aot_autograd.py\", line 954, in aot_module_simplified\n",
            "W1022 20:02:31.854000 134525777928832 torch/_dynamo/convert_frame.py:1009]     compiled_fn, _ = create_aot_dispatcher_function(\n",
            "W1022 20:02:31.854000 134525777928832 torch/_dynamo/convert_frame.py:1009]   File \"/usr/local/lib/python3.10/dist-packages/torch/_dynamo/utils.py\", line 231, in time_wrapper\n",
            "W1022 20:02:31.854000 134525777928832 torch/_dynamo/convert_frame.py:1009]     r = func(*args, **kwargs)\n",
            "W1022 20:02:31.854000 134525777928832 torch/_dynamo/convert_frame.py:1009]   File \"/usr/local/lib/python3.10/dist-packages/torch/_functorch/aot_autograd.py\", line 687, in create_aot_dispatcher_function\n",
            "W1022 20:02:31.854000 134525777928832 torch/_dynamo/convert_frame.py:1009]     compiled_fn, fw_metadata = compiler_fn(\n",
            "W1022 20:02:31.854000 134525777928832 torch/_dynamo/convert_frame.py:1009]   File \"/usr/local/lib/python3.10/dist-packages/torch/_functorch/_aot_autograd/jit_compile_runtime_wrappers.py\", line 461, in aot_dispatch_autograd\n",
            "W1022 20:02:31.854000 134525777928832 torch/_dynamo/convert_frame.py:1009]     compiled_fw_func = aot_config.fw_compiler(fw_module, adjusted_flat_args)\n",
            "W1022 20:02:31.854000 134525777928832 torch/_dynamo/convert_frame.py:1009]   File \"/usr/local/lib/python3.10/dist-packages/torch/_dynamo/utils.py\", line 231, in time_wrapper\n",
            "W1022 20:02:31.854000 134525777928832 torch/_dynamo/convert_frame.py:1009]     r = func(*args, **kwargs)\n",
            "W1022 20:02:31.854000 134525777928832 torch/_dynamo/convert_frame.py:1009]   File \"/usr/local/lib/python3.10/dist-packages/torch/_inductor/compile_fx.py\", line 1410, in fw_compiler_base\n",
            "W1022 20:02:31.854000 134525777928832 torch/_dynamo/convert_frame.py:1009]     return inner_compile(\n",
            "W1022 20:02:31.854000 134525777928832 torch/_dynamo/convert_frame.py:1009]   File \"/usr/local/lib/python3.10/dist-packages/torch/_dynamo/repro/after_aot.py\", line 84, in debug_wrapper\n",
            "W1022 20:02:31.854000 134525777928832 torch/_dynamo/convert_frame.py:1009]     inner_compiled_fn = compiler_fn(gm, example_inputs)\n",
            "W1022 20:02:31.854000 134525777928832 torch/_dynamo/convert_frame.py:1009]   File \"/usr/local/lib/python3.10/dist-packages/torch/_inductor/debug.py\", line 304, in inner\n",
            "W1022 20:02:31.854000 134525777928832 torch/_dynamo/convert_frame.py:1009]     return fn(*args, **kwargs)\n",
            "W1022 20:02:31.854000 134525777928832 torch/_dynamo/convert_frame.py:1009]   File \"/usr/lib/python3.10/contextlib.py\", line 79, in inner\n",
            "W1022 20:02:31.854000 134525777928832 torch/_dynamo/convert_frame.py:1009]     return func(*args, **kwds)\n",
            "W1022 20:02:31.854000 134525777928832 torch/_dynamo/convert_frame.py:1009]   File \"/usr/lib/python3.10/contextlib.py\", line 79, in inner\n",
            "W1022 20:02:31.854000 134525777928832 torch/_dynamo/convert_frame.py:1009]     return func(*args, **kwds)\n",
            "W1022 20:02:31.854000 134525777928832 torch/_dynamo/convert_frame.py:1009]   File \"/usr/local/lib/python3.10/dist-packages/torch/_dynamo/utils.py\", line 231, in time_wrapper\n",
            "W1022 20:02:31.854000 134525777928832 torch/_dynamo/convert_frame.py:1009]     r = func(*args, **kwargs)\n",
            "W1022 20:02:31.854000 134525777928832 torch/_dynamo/convert_frame.py:1009]   File \"/usr/local/lib/python3.10/dist-packages/torch/_inductor/compile_fx.py\", line 527, in compile_fx_inner\n",
            "W1022 20:02:31.854000 134525777928832 torch/_dynamo/convert_frame.py:1009]     compiled_graph = fx_codegen_and_compile(\n",
            "W1022 20:02:31.854000 134525777928832 torch/_dynamo/convert_frame.py:1009]   File \"/usr/lib/python3.10/contextlib.py\", line 79, in inner\n",
            "W1022 20:02:31.854000 134525777928832 torch/_dynamo/convert_frame.py:1009]     return func(*args, **kwds)\n",
            "W1022 20:02:31.854000 134525777928832 torch/_dynamo/convert_frame.py:1009]   File \"/usr/local/lib/python3.10/dist-packages/torch/_inductor/compile_fx.py\", line 831, in fx_codegen_and_compile\n",
            "W1022 20:02:31.854000 134525777928832 torch/_dynamo/convert_frame.py:1009]     compiled_fn = graph.compile_to_fn()\n",
            "W1022 20:02:31.854000 134525777928832 torch/_dynamo/convert_frame.py:1009]   File \"/usr/local/lib/python3.10/dist-packages/torch/_inductor/graph.py\", line 1751, in compile_to_fn\n",
            "W1022 20:02:31.854000 134525777928832 torch/_dynamo/convert_frame.py:1009]     return self.compile_to_module().call\n",
            "W1022 20:02:31.854000 134525777928832 torch/_dynamo/convert_frame.py:1009]   File \"/usr/local/lib/python3.10/dist-packages/torch/_dynamo/utils.py\", line 231, in time_wrapper\n",
            "W1022 20:02:31.854000 134525777928832 torch/_dynamo/convert_frame.py:1009]     r = func(*args, **kwargs)\n",
            "W1022 20:02:31.854000 134525777928832 torch/_dynamo/convert_frame.py:1009]   File \"/usr/local/lib/python3.10/dist-packages/torch/_inductor/graph.py\", line 1680, in compile_to_module\n",
            "W1022 20:02:31.854000 134525777928832 torch/_dynamo/convert_frame.py:1009]     self.codegen_with_cpp_wrapper() if self.cpp_wrapper else self.codegen()\n",
            "W1022 20:02:31.854000 134525777928832 torch/_dynamo/convert_frame.py:1009]   File \"/usr/local/lib/python3.10/dist-packages/torch/_inductor/graph.py\", line 1636, in codegen\n",
            "W1022 20:02:31.854000 134525777928832 torch/_dynamo/convert_frame.py:1009]     self.scheduler = Scheduler(self.buffers)\n",
            "W1022 20:02:31.854000 134525777928832 torch/_dynamo/convert_frame.py:1009]   File \"/usr/local/lib/python3.10/dist-packages/torch/_dynamo/utils.py\", line 231, in time_wrapper\n",
            "W1022 20:02:31.854000 134525777928832 torch/_dynamo/convert_frame.py:1009]     r = func(*args, **kwargs)\n",
            "W1022 20:02:31.854000 134525777928832 torch/_dynamo/convert_frame.py:1009]   File \"/usr/local/lib/python3.10/dist-packages/torch/_inductor/scheduler.py\", line 1364, in __init__\n",
            "W1022 20:02:31.854000 134525777928832 torch/_dynamo/convert_frame.py:1009]     self.nodes = [self.create_scheduler_node(n) for n in nodes]\n",
            "W1022 20:02:31.854000 134525777928832 torch/_dynamo/convert_frame.py:1009]   File \"/usr/local/lib/python3.10/dist-packages/torch/_inductor/scheduler.py\", line 1364, in <listcomp>\n",
            "W1022 20:02:31.854000 134525777928832 torch/_dynamo/convert_frame.py:1009]     self.nodes = [self.create_scheduler_node(n) for n in nodes]\n",
            "W1022 20:02:31.854000 134525777928832 torch/_dynamo/convert_frame.py:1009]   File \"/usr/local/lib/python3.10/dist-packages/torch/_inductor/scheduler.py\", line 1462, in create_scheduler_node\n",
            "W1022 20:02:31.854000 134525777928832 torch/_dynamo/convert_frame.py:1009]     return SchedulerNode(self, node)\n",
            "W1022 20:02:31.854000 134525777928832 torch/_dynamo/convert_frame.py:1009]   File \"/usr/local/lib/python3.10/dist-packages/torch/_inductor/scheduler.py\", line 731, in __init__\n",
            "W1022 20:02:31.854000 134525777928832 torch/_dynamo/convert_frame.py:1009]     self._compute_attrs()\n",
            "W1022 20:02:31.854000 134525777928832 torch/_dynamo/convert_frame.py:1009]   File \"/usr/local/lib/python3.10/dist-packages/torch/_inductor/scheduler.py\", line 742, in _compute_attrs\n",
            "W1022 20:02:31.854000 134525777928832 torch/_dynamo/convert_frame.py:1009]     group_fn = self.scheduler.get_backend(self.node.get_device()).group_fn\n",
            "W1022 20:02:31.854000 134525777928832 torch/_dynamo/convert_frame.py:1009]   File \"/usr/local/lib/python3.10/dist-packages/torch/_inductor/scheduler.py\", line 2663, in get_backend\n",
            "W1022 20:02:31.854000 134525777928832 torch/_dynamo/convert_frame.py:1009]     self.backends[device] = self.create_backend(device)\n",
            "W1022 20:02:31.854000 134525777928832 torch/_dynamo/convert_frame.py:1009]   File \"/usr/local/lib/python3.10/dist-packages/torch/_inductor/scheduler.py\", line 2655, in create_backend\n",
            "W1022 20:02:31.854000 134525777928832 torch/_dynamo/convert_frame.py:1009]     raise RuntimeError(\n",
            "W1022 20:02:31.854000 134525777928832 torch/_dynamo/convert_frame.py:1009] torch._dynamo.exc.BackendCompilerFailed: backend='inductor' raised:\n",
            "W1022 20:02:31.854000 134525777928832 torch/_dynamo/convert_frame.py:1009] RuntimeError: Cannot find a working triton installation. More information on installing Triton can be found at https://github.com/openai/triton\n",
            "W1022 20:02:31.854000 134525777928832 torch/_dynamo/convert_frame.py:1009] \n",
            "W1022 20:02:31.854000 134525777928832 torch/_dynamo/convert_frame.py:1009] Set TORCH_LOGS=\"+dynamo\" and TORCHDYNAMO_VERBOSE=1 for more information\n",
            "W1022 20:02:31.854000 134525777928832 torch/_dynamo/convert_frame.py:1009] \n"
          ]
        },
        {
          "output_type": "stream",
          "name": "stdout",
          "text": [
            "Train - Loss: 375.9773 Accuracy: 0.9386\n",
            "Valid - Loss: 27.8605 Accuracy: 0.9709\n",
            "Epoch: 1\n",
            "Train - Loss: 158.4767 Accuracy: 0.9740\n",
            "Valid - Loss: 25.9105 Accuracy: 0.9742\n",
            "Epoch: 2\n",
            "Train - Loss: 106.5978 Accuracy: 0.9820\n",
            "Valid - Loss: 27.0370 Accuracy: 0.9739\n",
            "Epoch: 3\n",
            "Train - Loss: 84.5658 Accuracy: 0.9859\n",
            "Valid - Loss: 24.2619 Accuracy: 0.9766\n",
            "Epoch: 4\n",
            "Train - Loss: 65.3999 Accuracy: 0.9889\n",
            "Valid - Loss: 23.5447 Accuracy: 0.9789\n"
          ]
        }
      ],
      "source": [
        "epochs = 5\n",
        "\n",
        "for epoch in range(epochs):\n",
        "    print('Epoch: {}'.format(epoch))\n",
        "    train()\n",
        "    validate()"
      ]
    },
    {
      "cell_type": "code",
      "source": [
        "train_set[0][0].shape\n"
      ],
      "metadata": {
        "id": "BiTr6NQa1nGl",
        "outputId": "44ccde80-a42a-4a8f-d2eb-de180d6e6753",
        "colab": {
          "base_uri": "https://localhost:8080/"
        }
      },
      "execution_count": 38,
      "outputs": [
        {
          "output_type": "execute_result",
          "data": {
            "text/plain": [
              "torch.Size([1, 28, 28])"
            ]
          },
          "metadata": {},
          "execution_count": 38
        }
      ]
    },
    {
      "cell_type": "code",
      "execution_count": 39,
      "metadata": {
        "id": "FPKjh3TN1_Sx",
        "colab": {
          "base_uri": "https://localhost:8080/"
        },
        "outputId": "888f1bf4-8ca9-4a54-d57b-0e49117b8c39"
      },
      "outputs": [
        {
          "output_type": "execute_result",
          "data": {
            "text/plain": [
              "tensor([[-23.7735, -10.0770, -12.4272,   6.9609, -24.3911,  14.9587, -16.4885,\n",
              "         -14.1184, -11.9873,   0.2044]], device='cuda:0',\n",
              "       grad_fn=<AddmmBackward0>)"
            ]
          },
          "metadata": {},
          "execution_count": 39
        }
      ],
      "source": [
        "prediction = model(train_set[0][0].to(device))\n",
        "prediction"
      ]
    },
    {
      "cell_type": "code",
      "execution_count": 40,
      "metadata": {
        "id": "XrmW1TrN2OOr",
        "colab": {
          "base_uri": "https://localhost:8080/"
        },
        "outputId": "2b9a2cc5-b5ab-4771-d636-1209a87009c8"
      },
      "outputs": [
        {
          "output_type": "execute_result",
          "data": {
            "text/plain": [
              "tensor([[5]], device='cuda:0')"
            ]
          },
          "metadata": {},
          "execution_count": 40
        }
      ],
      "source": [
        "prediction.argmax(dim=1, keepdim=True)"
      ]
    },
    {
      "cell_type": "markdown",
      "metadata": {
        "id": "wwEU7O5m5E-E"
      },
      "source": [
        "Did it get it right?"
      ]
    },
    {
      "cell_type": "markdown",
      "metadata": {
        "id": "lV4QiOtg2zgL"
      },
      "source": [
        "### 1.7.1 Clear the Memory"
      ]
    },
    {
      "cell_type": "markdown",
      "metadata": {
        "id": "o3iQrnws2zgL"
      },
      "source": [
        "Before moving on, please execute the following cell to clear up the GPU memory. This is required to move on to the next notebook."
      ]
    },
    {
      "cell_type": "code",
      "execution_count": null,
      "metadata": {
        "id": "JCvpuSx-2zgM"
      },
      "outputs": [],
      "source": [
        "import IPython\n",
        "app = IPython.Application.instance()\n",
        "app.kernel.do_shutdown(True)"
      ]
    },
    {
      "cell_type": "markdown",
      "metadata": {
        "id": "zqcwglnk2zgM"
      },
      "source": [
        "<center><a href=\"https://www.nvidia.com/dli\"> <img src=\"https://github.com/sathyasheelans/NVIDIA_DL/blob/master/Nvidia%20-%20Intro%20to%20Deep%20Learning/Lesson_1/images/DLI_Header.png?raw=1\" alt=\"Header\" style=\"width: 400px;\"/> </a></center>"
      ]
    }
  ],
  "metadata": {
    "accelerator": "GPU",
    "colab": {
      "gpuType": "T4",
      "provenance": []
    },
    "kernelspec": {
      "display_name": "Python 3 (ipykernel)",
      "language": "python",
      "name": "python3"
    },
    "language_info": {
      "codemirror_mode": {
        "name": "ipython",
        "version": 3
      },
      "file_extension": ".py",
      "mimetype": "text/x-python",
      "name": "python",
      "nbconvert_exporter": "python",
      "pygments_lexer": "ipython3",
      "version": "3.9.12"
    }
  },
  "nbformat": 4,
  "nbformat_minor": 0
}